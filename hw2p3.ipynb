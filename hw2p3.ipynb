{
 "cells": [
  {
   "cell_type": "markdown",
   "metadata": {},
   "source": [
    "# Homework 2 - Problem 3"
   ]
  },
  {
   "cell_type": "code",
   "execution_count": 2,
   "metadata": {},
   "outputs": [],
   "source": [
    "import numpy as np\n",
    "import matplotlib.pyplot as plt"
   ]
  },
  {
   "cell_type": "markdown",
   "metadata": {},
   "source": [
    "\n",
    "So given that it is type B ($C = 1$) yet classified as type A ($\\hat{C} = -1$) we have:\n",
    "\n",
    "$P(\\hat{C} = A|C = B) = \\int_{-\\infty}^{T}p_{4,1.4}(x)dx$ since the probability distribution is for type B in the classification interval of type A.\n",
    "\n",
    "And given that it is type A ($C = -1$) yet classified as type B ($\\hat{C} = 1$) we have:\n",
    "\n",
    "$P(\\hat{C} = B|C = A) = \\int_{T}^{\\infty}p_{5,2}(x)dx$ since the probability distribution is for type A in the classification interval of type B."
   ]
  },
  {
   "cell_type": "code",
   "execution_count": 16,
   "metadata": {},
   "outputs": [],
   "source": [
    "def calculate_prob(xs: np.array, mu: float, sigma: float) -> np.array:\n",
    "    exp = np.exp(-(1 / (2 * sigma)) * (xs - mu)**2)\n",
    "    prob = (1 / (sigma * np.sqrt(2 * np.pi))) * exp\n",
    "\n",
    "    return prob"
   ]
  },
  {
   "cell_type": "code",
   "execution_count": 21,
   "metadata": {},
   "outputs": [],
   "source": [
    "weights = np.linspace(1, 8, num=1000)\n",
    "ts = np.linspace(1, 8, 1000)"
   ]
  },
  {
   "cell_type": "code",
   "execution_count": null,
   "metadata": {},
   "outputs": [],
   "source": []
  },
  {
   "cell_type": "code",
   "execution_count": null,
   "metadata": {},
   "outputs": [],
   "source": []
  }
 ],
 "metadata": {
  "kernelspec": {
   "display_name": "Python 3",
   "language": "python",
   "name": "python3"
  },
  "language_info": {
   "codemirror_mode": {
    "name": "ipython",
    "version": 3
   },
   "file_extension": ".py",
   "mimetype": "text/x-python",
   "name": "python",
   "nbconvert_exporter": "python",
   "pygments_lexer": "ipython3",
   "version": "3.10.13"
  }
 },
 "nbformat": 4,
 "nbformat_minor": 2
}
