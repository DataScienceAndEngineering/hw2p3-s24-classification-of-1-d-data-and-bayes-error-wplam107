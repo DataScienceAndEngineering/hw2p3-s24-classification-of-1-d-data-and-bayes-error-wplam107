{
 "cells": [
  {
   "cell_type": "markdown",
   "metadata": {},
   "source": [
    "# Homework 2 - Problem 3"
   ]
  },
  {
   "cell_type": "markdown",
   "metadata": {},
   "source": [
    "## A.\n",
    "\n",
    "So given that it is type B ($C_T(x) = 1$) yet classified as type A ($C_T(x) = -1$) we have:\n",
    "\n",
    "$P(C_T(x) = -1|B) = \\int_{-\\infty}^{T}p_{4,1.4}(x)dx$ since the probability distribution is for type B in the classification interval of type A.\n",
    "\n",
    "And given that it is type A ($C_T(x) = -1$) yet classified as type B ($C_T(x) = 1$) we have:\n",
    "\n",
    "$P(C_T(x) = 1|A) = \\int_{T}^{\\infty}p_{5,2}(x)dx$ since the probability distribution is for type A in the classification interval of type B."
   ]
  },
  {
   "cell_type": "markdown",
   "metadata": {},
   "source": [
    "## B."
   ]
  },
  {
   "cell_type": "code",
   "execution_count": null,
   "metadata": {},
   "outputs": [],
   "source": []
  }
 ],
 "metadata": {
  "language_info": {
   "name": "python"
  }
 },
 "nbformat": 4,
 "nbformat_minor": 2
}
